{
 "cells": [
  {
   "cell_type": "markdown",
   "metadata": {},
   "source": [
    "##  \n",
    "##  \n",
    "## Introduction"
   ]
  },
  {
   "cell_type": "markdown",
   "metadata": {},
   "source": [
    "Objective is to create a regression tree that predicts whether a tax return will fund from the IRS.  \n",
    "The explanatory variable is a binary flag, 'Funded', with values of 1 (funded) and 0 (unfunded).  \n",
    "The independent variables are several masked binary Federal form flags (1 means yes the form is present).  \n",
    "Also have some other categorical and numeric variables to evaluate.\n",
    "\n"
   ]
  },
  {
   "cell_type": "markdown",
   "metadata": {},
   "source": [
    "##   \n",
    "##    \n",
    "## Importing the data set and taking a peak   \n",
    "\n",
    "\n",
    "\n",
    "\n",
    "\n",
    "\n",
    "\n",
    "\n"
   ]
  },
  {
   "cell_type": "code",
   "execution_count": 48,
   "metadata": {},
   "outputs": [],
   "source": [
    "#Import all the needed libraries\n",
    "from pathlib import Path\n",
    "\n",
    "import matplotlib.pyplot as plt\n",
    "import pandas as pd\n",
    "import seaborn as sns\n",
    "\n",
    "plt.style.use('fivethirtyeight')\n",
    "\n",
    "pd.options.display.max_rows = 4000\n"
   ]
  },
  {
   "cell_type": "code",
   "execution_count": 4,
   "metadata": {
    "scrolled": true
   },
   "outputs": [],
   "source": [
    "#Import the dataset\n",
    "\n",
    "data_path = Path('Sample Output.csv')\n",
    "data = pd.read_csv(data_path)\n"
   ]
  },
  {
   "cell_type": "code",
   "execution_count": 5,
   "metadata": {},
   "outputs": [
    {
     "data": {
      "text/html": [
       "<div>\n",
       "<style scoped>\n",
       "    .dataframe tbody tr th:only-of-type {\n",
       "        vertical-align: middle;\n",
       "    }\n",
       "\n",
       "    .dataframe tbody tr th {\n",
       "        vertical-align: top;\n",
       "    }\n",
       "\n",
       "    .dataframe thead th {\n",
       "        text-align: right;\n",
       "    }\n",
       "</style>\n",
       "<table border=\"1\" class=\"dataframe\">\n",
       "  <thead>\n",
       "    <tr style=\"text-align: right;\">\n",
       "      <th></th>\n",
       "      <th>Sort_ID</th>\n",
       "      <th>InvoiceID</th>\n",
       "      <th>Date_1</th>\n",
       "      <th>Date_2</th>\n",
       "      <th>Date_3</th>\n",
       "      <th>Field_20</th>\n",
       "      <th>Field_4</th>\n",
       "      <th>Field_9</th>\n",
       "      <th>Field_10</th>\n",
       "      <th>Field_11</th>\n",
       "      <th>...</th>\n",
       "      <th>FedForm_144</th>\n",
       "      <th>FedForm_145</th>\n",
       "      <th>FedForm_146</th>\n",
       "      <th>FedForm_147</th>\n",
       "      <th>FedForm_148</th>\n",
       "      <th>FedForm_149</th>\n",
       "      <th>FedForm_150</th>\n",
       "      <th>FedForm_151</th>\n",
       "      <th>FedForm_152</th>\n",
       "      <th>FedForm_153</th>\n",
       "    </tr>\n",
       "  </thead>\n",
       "  <tbody>\n",
       "    <tr>\n",
       "      <th>0</th>\n",
       "      <td>AEB8553A-B4FB-48C9-A98F-000004FE5C78</td>\n",
       "      <td>45004853</td>\n",
       "      <td>20180210</td>\n",
       "      <td>20180210</td>\n",
       "      <td>20180210</td>\n",
       "      <td>1988</td>\n",
       "      <td>1</td>\n",
       "      <td>1</td>\n",
       "      <td>0</td>\n",
       "      <td>1</td>\n",
       "      <td>...</td>\n",
       "      <td>0</td>\n",
       "      <td>0</td>\n",
       "      <td>0</td>\n",
       "      <td>0</td>\n",
       "      <td>0</td>\n",
       "      <td>0</td>\n",
       "      <td>0</td>\n",
       "      <td>0</td>\n",
       "      <td>0</td>\n",
       "      <td>0</td>\n",
       "    </tr>\n",
       "    <tr>\n",
       "      <th>1</th>\n",
       "      <td>9B5A36AA-3C3D-43CA-A9A3-0000112FF3FA</td>\n",
       "      <td>44327950</td>\n",
       "      <td>20180118</td>\n",
       "      <td>20180124</td>\n",
       "      <td>20180129</td>\n",
       "      <td>1995</td>\n",
       "      <td>3</td>\n",
       "      <td>1</td>\n",
       "      <td>1</td>\n",
       "      <td>1</td>\n",
       "      <td>...</td>\n",
       "      <td>0</td>\n",
       "      <td>0</td>\n",
       "      <td>0</td>\n",
       "      <td>0</td>\n",
       "      <td>0</td>\n",
       "      <td>0</td>\n",
       "      <td>0</td>\n",
       "      <td>0</td>\n",
       "      <td>0</td>\n",
       "      <td>0</td>\n",
       "    </tr>\n",
       "    <tr>\n",
       "      <th>2</th>\n",
       "      <td>B886E7BA-E291-4758-A6B6-0000397078D7</td>\n",
       "      <td>44579539</td>\n",
       "      <td>20180129</td>\n",
       "      <td>20180129</td>\n",
       "      <td>20180129</td>\n",
       "      <td>1990</td>\n",
       "      <td>2</td>\n",
       "      <td>2</td>\n",
       "      <td>0</td>\n",
       "      <td>1</td>\n",
       "      <td>...</td>\n",
       "      <td>0</td>\n",
       "      <td>0</td>\n",
       "      <td>0</td>\n",
       "      <td>0</td>\n",
       "      <td>0</td>\n",
       "      <td>0</td>\n",
       "      <td>0</td>\n",
       "      <td>0</td>\n",
       "      <td>0</td>\n",
       "      <td>0</td>\n",
       "    </tr>\n",
       "    <tr>\n",
       "      <th>3</th>\n",
       "      <td>A24CA56B-430B-4F14-8692-00004D9E8F2D</td>\n",
       "      <td>44175456</td>\n",
       "      <td>20180103</td>\n",
       "      <td>20180130</td>\n",
       "      <td>20180130</td>\n",
       "      <td>1992</td>\n",
       "      <td>3</td>\n",
       "      <td>5</td>\n",
       "      <td>1</td>\n",
       "      <td>1</td>\n",
       "      <td>...</td>\n",
       "      <td>0</td>\n",
       "      <td>0</td>\n",
       "      <td>0</td>\n",
       "      <td>0</td>\n",
       "      <td>0</td>\n",
       "      <td>0</td>\n",
       "      <td>0</td>\n",
       "      <td>0</td>\n",
       "      <td>0</td>\n",
       "      <td>0</td>\n",
       "    </tr>\n",
       "    <tr>\n",
       "      <th>4</th>\n",
       "      <td>5FF6DDE5-E3D1-4C0C-99D2-000053869E3F</td>\n",
       "      <td>44747837</td>\n",
       "      <td>20180202</td>\n",
       "      <td>20180202</td>\n",
       "      <td>20180202</td>\n",
       "      <td>1981</td>\n",
       "      <td>3</td>\n",
       "      <td>1</td>\n",
       "      <td>0</td>\n",
       "      <td>1</td>\n",
       "      <td>...</td>\n",
       "      <td>0</td>\n",
       "      <td>0</td>\n",
       "      <td>0</td>\n",
       "      <td>0</td>\n",
       "      <td>0</td>\n",
       "      <td>0</td>\n",
       "      <td>0</td>\n",
       "      <td>0</td>\n",
       "      <td>0</td>\n",
       "      <td>0</td>\n",
       "    </tr>\n",
       "  </tbody>\n",
       "</table>\n",
       "<p>5 rows × 177 columns</p>\n",
       "</div>"
      ],
      "text/plain": [
       "                                Sort_ID  InvoiceID    Date_1    Date_2  \\\n",
       "0  AEB8553A-B4FB-48C9-A98F-000004FE5C78   45004853  20180210  20180210   \n",
       "1  9B5A36AA-3C3D-43CA-A9A3-0000112FF3FA   44327950  20180118  20180124   \n",
       "2  B886E7BA-E291-4758-A6B6-0000397078D7   44579539  20180129  20180129   \n",
       "3  A24CA56B-430B-4F14-8692-00004D9E8F2D   44175456  20180103  20180130   \n",
       "4  5FF6DDE5-E3D1-4C0C-99D2-000053869E3F   44747837  20180202  20180202   \n",
       "\n",
       "     Date_3  Field_20  Field_4  Field_9  Field_10  Field_11     ...       \\\n",
       "0  20180210      1988        1        1         0         1     ...        \n",
       "1  20180129      1995        3        1         1         1     ...        \n",
       "2  20180129      1990        2        2         0         1     ...        \n",
       "3  20180130      1992        3        5         1         1     ...        \n",
       "4  20180202      1981        3        1         0         1     ...        \n",
       "\n",
       "   FedForm_144  FedForm_145  FedForm_146  FedForm_147  FedForm_148  \\\n",
       "0            0            0            0            0            0   \n",
       "1            0            0            0            0            0   \n",
       "2            0            0            0            0            0   \n",
       "3            0            0            0            0            0   \n",
       "4            0            0            0            0            0   \n",
       "\n",
       "   FedForm_149  FedForm_150  FedForm_151  FedForm_152  FedForm_153  \n",
       "0            0            0            0            0            0  \n",
       "1            0            0            0            0            0  \n",
       "2            0            0            0            0            0  \n",
       "3            0            0            0            0            0  \n",
       "4            0            0            0            0            0  \n",
       "\n",
       "[5 rows x 177 columns]"
      ]
     },
     "execution_count": 5,
     "metadata": {},
     "output_type": "execute_result"
    }
   ],
   "source": [
    "#Take a peak at the data\n",
    "\n",
    "data.head()"
   ]
  },
  {
   "cell_type": "code",
   "execution_count": 6,
   "metadata": {},
   "outputs": [
    {
     "data": {
      "text/plain": [
       "(100000, 177)"
      ]
     },
     "execution_count": 6,
     "metadata": {},
     "output_type": "execute_result"
    }
   ],
   "source": [
    "#Pull the size of the data set\n",
    "\n",
    "data.shape\n",
    "#177 columns of data, 100,000 rows"
   ]
  },
  {
   "cell_type": "code",
   "execution_count": 16,
   "metadata": {},
   "outputs": [
    {
     "name": "stdout",
     "output_type": "stream",
     "text": [
      "Sort_ID        0\n",
      "FedForm_89     0\n",
      "FedForm_90     0\n",
      "FedForm_91     0\n",
      "FedForm_92     0\n",
      "FedForm_93     0\n",
      "FedForm_94     0\n",
      "FedForm_95     0\n",
      "FedForm_96     0\n",
      "FedForm_88     0\n",
      "FedForm_97     0\n",
      "FedForm_99     0\n",
      "FedForm_100    0\n",
      "FedForm_101    0\n",
      "FedForm_102    0\n",
      "FedForm_103    0\n",
      "FedForm_104    0\n",
      "FedForm_105    0\n",
      "FedForm_106    0\n",
      "FedForm_98     0\n",
      "FedForm_107    0\n",
      "FedForm_87     0\n",
      "FedForm_85     0\n",
      "FedForm_67     0\n",
      "FedForm_68     0\n",
      "FedForm_69     0\n",
      "FedForm_70     0\n",
      "FedForm_71     0\n",
      "FedForm_72     0\n",
      "FedForm_73     0\n",
      "FedForm_74     0\n",
      "FedForm_86     0\n",
      "FedForm_75     0\n",
      "FedForm_77     0\n",
      "FedForm_78     0\n",
      "FedForm_79     0\n",
      "FedForm_80     0\n",
      "FedForm_81     0\n",
      "FedForm_82     0\n",
      "FedForm_83     0\n",
      "FedForm_84     0\n",
      "FedForm_76     0\n",
      "FedForm_108    0\n",
      "FedForm_109    0\n",
      "FedForm_110    0\n",
      "FedForm_134    0\n",
      "FedForm_135    0\n",
      "FedForm_136    0\n",
      "FedForm_137    0\n",
      "FedForm_138    0\n",
      "FedForm_139    0\n",
      "FedForm_140    0\n",
      "FedForm_141    0\n",
      "FedForm_133    0\n",
      "FedForm_142    0\n",
      "FedForm_144    0\n",
      "FedForm_145    0\n",
      "FedForm_146    0\n",
      "FedForm_147    0\n",
      "FedForm_148    0\n",
      "FedForm_149    0\n",
      "FedForm_150    0\n",
      "FedForm_151    0\n",
      "FedForm_143    0\n",
      "FedForm_132    0\n",
      "FedForm_131    0\n",
      "FedForm_130    0\n",
      "FedForm_111    0\n",
      "FedForm_112    0\n",
      "FedForm_113    0\n",
      "FedForm_114    0\n",
      "FedForm_115    0\n",
      "FedForm_116    0\n",
      "FedForm_117    0\n",
      "FedForm_118    0\n",
      "FedForm_119    0\n",
      "FedForm_120    0\n",
      "FedForm_121    0\n",
      "FedForm_122    0\n",
      "FedForm_123    0\n",
      "FedForm_124    0\n",
      "FedForm_125    0\n",
      "FedForm_126    0\n",
      "FedForm_127    0\n",
      "FedForm_128    0\n",
      "FedForm_129    0\n",
      "FedForm_66     0\n",
      "FedForm_152    0\n",
      "FedForm_65     0\n",
      "FedForm_63     0\n",
      "test           0\n",
      "FedForm_1      0\n",
      "FedForm_2      0\n",
      "FedForm_3      0\n",
      "FedForm_4      0\n",
      "FedForm_5      0\n",
      "FedForm_6      0\n",
      "FedForm_7      0\n",
      "Funded         0\n",
      "FedForm_8      0\n",
      "FedForm_10     0\n",
      "FedForm_11     0\n",
      "FedForm_12     0\n",
      "FedForm_13     0\n",
      "FedForm_14     0\n",
      "FedForm_15     0\n",
      "FedForm_16     0\n",
      "FedForm_17     0\n",
      "FedForm_9      0\n",
      "FedForm_18     0\n",
      "Field_17       0\n",
      "Field_15       0\n",
      "InvoiceID      0\n",
      "Date_1         0\n",
      "Date_2         0\n",
      "Date_3         0\n",
      "Field_20       0\n",
      "Field_4        0\n",
      "Field_9        0\n",
      "Field_10       0\n",
      "Field_16       0\n",
      "Field_11       0\n",
      "Field_13       0\n",
      "Field_14       0\n",
      "Field_6        0\n",
      "Field_7        0\n",
      "Field_18       0\n",
      "Field_19       0\n",
      "Field_8        0\n",
      "Field_5        0\n",
      "Field_12       0\n",
      "FedForm_19     0\n",
      "FedForm_20     0\n",
      "FedForm_21     0\n",
      "FedForm_45     0\n",
      "FedForm_46     0\n",
      "FedForm_47     0\n",
      "FedForm_48     0\n",
      "FedForm_49     0\n",
      "FedForm_50     0\n",
      "FedForm_51     0\n",
      "FedForm_52     0\n",
      "FedForm_44     0\n",
      "FedForm_53     0\n",
      "FedForm_55     0\n",
      "FedForm_56     0\n",
      "FedForm_57     0\n",
      "FedForm_58     0\n",
      "FedForm_59     0\n",
      "FedForm_60     0\n",
      "FedForm_61     0\n",
      "FedForm_62     0\n",
      "FedForm_54     0\n",
      "FedForm_43     0\n",
      "FedForm_42     0\n",
      "FedForm_41     0\n",
      "FedForm_22     0\n",
      "FedForm_23     0\n",
      "FedForm_24     0\n",
      "FedForm_25     0\n",
      "FedForm_26     0\n",
      "FedForm_27     0\n",
      "FedForm_28     0\n",
      "FedForm_29     0\n",
      "FedForm_30     0\n",
      "FedForm_31     0\n",
      "FedForm_32     0\n",
      "FedForm_33     0\n",
      "FedForm_34     0\n",
      "FedForm_35     0\n",
      "FedForm_36     0\n",
      "FedForm_37     0\n",
      "FedForm_38     0\n",
      "FedForm_39     0\n",
      "FedForm_40     0\n",
      "FedForm_64     0\n",
      "FedForm_153    0\n",
      "dtype: int64\n"
     ]
    }
   ],
   "source": [
    "#Check for any null values\n",
    "\n",
    "print(data.isnull().sum().sort_values(ascending = True))\n",
    "\n",
    "\n"
   ]
  },
  {
   "cell_type": "markdown",
   "metadata": {},
   "source": [
    "No null values in the entire data set, clean data\n"
   ]
  },
  {
   "cell_type": "markdown",
   "metadata": {},
   "source": [
    "##   \n",
    "##   \n",
    "## Look into forms data  "
   ]
  },
  {
   "cell_type": "code",
   "execution_count": 22,
   "metadata": {},
   "outputs": [],
   "source": [
    "#Calculate total sums for the form counts to find the largest forms\n",
    "totalcounts = data.sum()"
   ]
  },
  {
   "cell_type": "code",
   "execution_count": 30,
   "metadata": {},
   "outputs": [
    {
     "data": {
      "text/plain": [
       "Sort_ID        AEB8553A-B4FB-48C9-A98F-000004FE5C789B5A36AA-3...\n",
       "InvoiceID                                          4478157292931\n",
       "Date_1                                             2017898065135\n",
       "Date_2                                             2018019324734\n",
       "Date_3                                             2016541591915\n",
       "Field_20                                               197866085\n",
       "Field_4                                                   256056\n",
       "Field_9                                                   247588\n",
       "Field_10                                                   21661\n",
       "Field_11                                                   99336\n",
       "Field_12                                                  133569\n",
       "Field_13                                                    2475\n",
       "Field_14                                                    1499\n",
       "Field_6                                              2.62088e+09\n",
       "Field_7                                              4.06144e+08\n",
       "Field_18                                                   55173\n",
       "Field_19                                                   21213\n",
       "Field_8                                                    15534\n",
       "Field_5                                                   339866\n",
       "Field_15                                                  264654\n",
       "Field_16                                                   23143\n",
       "Field_17                                               200385335\n",
       "Funded                                                     92042\n",
       "test                                                         195\n",
       "FedForm_1                                                    195\n",
       "FedForm_2                                                    449\n",
       "FedForm_3                                                  25101\n",
       "FedForm_4                                                      4\n",
       "FedForm_5                                                  69483\n",
       "FedForm_6                                                   3289\n",
       "FedForm_7                                                    892\n",
       "FedForm_8                                                   7481\n",
       "FedForm_9                                                     28\n",
       "FedForm_10                                                     1\n",
       "FedForm_11                                                    51\n",
       "FedForm_12                                                    10\n",
       "FedForm_13                                                 19208\n",
       "FedForm_14                                                    90\n",
       "FedForm_15                                                    27\n",
       "FedForm_16                                                     0\n",
       "FedForm_17                                                  1988\n",
       "FedForm_18                                                    54\n",
       "FedForm_19                                                  2137\n",
       "FedForm_20                                                    12\n",
       "FedForm_21                                                 62592\n",
       "FedForm_22                                                 18200\n",
       "FedForm_23                                                     0\n",
       "FedForm_24                                                    71\n",
       "FedForm_25                                                  1725\n",
       "FedForm_26                                                  6721\n",
       "FedForm_27                                                  4899\n",
       "FedForm_28                                                  4063\n",
       "FedForm_29                                                   224\n",
       "FedForm_30                                                    88\n",
       "FedForm_31                                                   439\n",
       "FedForm_32                                                    28\n",
       "FedForm_33                                                     1\n",
       "FedForm_34                                                   110\n",
       "FedForm_35                                                    12\n",
       "FedForm_36                                                     0\n",
       "FedForm_37                                                  1804\n",
       "FedForm_38                                                     6\n",
       "FedForm_39                                                     0\n",
       "FedForm_40                                                     0\n",
       "FedForm_41                                                     0\n",
       "FedForm_42                                                     0\n",
       "FedForm_43                                                  2981\n",
       "FedForm_44                                                   321\n",
       "FedForm_45                                                   213\n",
       "FedForm_46                                                     1\n",
       "FedForm_47                                                     1\n",
       "FedForm_48                                                     0\n",
       "FedForm_49                                                     0\n",
       "FedForm_50                                                     0\n",
       "FedForm_51                                                     1\n",
       "FedForm_52                                                   228\n",
       "FedForm_53                                                     2\n",
       "FedForm_54                                                   120\n",
       "FedForm_55                                                  1143\n",
       "FedForm_56                                                    75\n",
       "FedForm_57                                                   116\n",
       "FedForm_58                                                     5\n",
       "FedForm_59                                                     7\n",
       "FedForm_60                                                     1\n",
       "FedForm_61                                                   382\n",
       "FedForm_62                                                    10\n",
       "FedForm_63                                                     1\n",
       "FedForm_64                                                    95\n",
       "FedForm_65                                                    11\n",
       "FedForm_66                                                   113\n",
       "FedForm_67                                                     7\n",
       "FedForm_68                                                     1\n",
       "FedForm_69                                                   398\n",
       "FedForm_70                                                     3\n",
       "FedForm_71                                                    21\n",
       "FedForm_72                                                   174\n",
       "FedForm_73                                                    33\n",
       "FedForm_74                                                     1\n",
       "FedForm_75                                                    84\n",
       "FedForm_76                                                     1\n",
       "FedForm_77                                                    10\n",
       "FedForm_78                                                 50206\n",
       "FedForm_79                                                    47\n",
       "FedForm_80                                                     1\n",
       "FedForm_81                                                    10\n",
       "FedForm_82                                                     0\n",
       "FedForm_83                                                   124\n",
       "FedForm_84                                                    65\n",
       "FedForm_85                                                     0\n",
       "FedForm_86                                                    51\n",
       "FedForm_87                                                     0\n",
       "FedForm_88                                                    17\n",
       "FedForm_89                                                   760\n",
       "FedForm_90                                                  3518\n",
       "FedForm_91                                                  9463\n",
       "FedForm_92                                                     1\n",
       "FedForm_93                                                  3074\n",
       "FedForm_94                                                     0\n",
       "FedForm_95                                                     0\n",
       "FedForm_96                                                     4\n",
       "FedForm_97                                                    58\n",
       "FedForm_98                                                    71\n",
       "FedForm_99                                                    35\n",
       "FedForm_100                                                   22\n",
       "FedForm_101                                                 1653\n",
       "FedForm_102                                                16242\n",
       "FedForm_103                                                    3\n",
       "FedForm_104                                                   58\n",
       "FedForm_105                                                16533\n",
       "FedForm_106                                                95671\n",
       "FedForm_107                                                40875\n",
       "FedForm_108                                                  813\n",
       "FedForm_109                                                   76\n",
       "FedForm_110                                                    9\n",
       "FedForm_111                                                 4361\n",
       "FedForm_112                                                   36\n",
       "FedForm_113                                                 3153\n",
       "FedForm_114                                                  513\n",
       "FedForm_115                                                   73\n",
       "FedForm_116                                                  931\n",
       "FedForm_117                                                    2\n",
       "FedForm_118                                                  572\n",
       "FedForm_119                                                  633\n",
       "FedForm_120                                                   85\n",
       "FedForm_121                                                 4849\n",
       "FedForm_122                                                 2481\n",
       "FedForm_123                                                 2867\n",
       "FedForm_124                                                 3139\n",
       "FedForm_125                                                  168\n",
       "FedForm_126                                                 4671\n",
       "FedForm_127                                                 1058\n",
       "FedForm_128                                                  124\n",
       "FedForm_129                                                 6579\n",
       "FedForm_130                                                 2137\n",
       "FedForm_131                                                  166\n",
       "FedForm_132                                                 8512\n",
       "FedForm_133                                                 6555\n",
       "FedForm_134                                                  691\n",
       "FedForm_135                                                  281\n",
       "FedForm_136                                                  515\n",
       "FedForm_137                                                   62\n",
       "FedForm_138                                                  488\n",
       "FedForm_139                                                  127\n",
       "FedForm_140                                                58478\n",
       "FedForm_141                                                  167\n",
       "FedForm_142                                                    0\n",
       "FedForm_143                                                    0\n",
       "FedForm_144                                                    9\n",
       "FedForm_145                                                   24\n",
       "FedForm_146                                                 7330\n",
       "FedForm_147                                                   31\n",
       "FedForm_148                                                 1871\n",
       "FedForm_149                                                  105\n",
       "FedForm_150                                                 1929\n",
       "FedForm_151                                                  376\n",
       "FedForm_152                                                 7124\n",
       "FedForm_153                                                 2572\n",
       "dtype: object"
      ]
     },
     "execution_count": 30,
     "metadata": {},
     "output_type": "execute_result"
    }
   ],
   "source": [
    "#Pick out the 30 largest form counts to include in models\n",
    "totalcounts\n"
   ]
  },
  {
   "attachments": {},
   "cell_type": "markdown",
   "metadata": {},
   "source": [
    "Forms of interest: \n",
    "\n",
    "\n",
    "'FedForm_106', 'FedForm_5', 'FedForm_21', 'FedForm_140', 'FedForm_78', 'FedForm_107', 'FedForm_3', 'FedForm_13',\n",
    "'FedForm_22', 'FedForm_105', 'FedForm_102', 'FedForm_91', 'FedForm_132', 'FedForm_8', 'FedForm_146', 'FedForm_152',\n",
    "'FedForm_26', 'FedForm_129', 'FedForm_133', 'FedForm_27', 'FedForm_121', 'FedForm_126', 'FedForm_111', 'FedForm_28',\n",
    "'FedForm_90', 'FedForm_6', 'FedForm_113', 'FedForm_124', 'FedForm_93', 'FedForm_43'\n",
    "\n"
   ]
  },
  {
   "cell_type": "code",
   "execution_count": 44,
   "metadata": {},
   "outputs": [],
   "source": [
    "#Create subset of the data with just the 30 top forms, as well as the funding data (the variable we are trying to predict)\n",
    "\n",
    "formsdata = ( \n",
    "                data.loc[:, \n",
    "                           ['Funded',\n",
    "                            'FedForm_106', 'FedForm_5', 'FedForm_21', 'FedForm_140', 'FedForm_78', \n",
    "                            'FedForm_107', 'FedForm_3', 'FedForm_13', 'FedForm_22', 'FedForm_105', \n",
    "                            'FedForm_102', 'FedForm_91', 'FedForm_132', 'FedForm_8', 'FedForm_146', \n",
    "                            'FedForm_152', 'FedForm_26', 'FedForm_129', 'FedForm_133', 'FedForm_27',\n",
    "                            'FedForm_121', 'FedForm_126', 'FedForm_111', 'FedForm_28', 'FedForm_90', \n",
    "                            'FedForm_6', 'FedForm_113', 'FedForm_124', 'FedForm_93', 'FedForm_43'               \n",
    "                           ]\n",
    "                        ] )"
   ]
  },
  {
   "cell_type": "code",
   "execution_count": 45,
   "metadata": {},
   "outputs": [
    {
     "data": {
      "text/html": [
       "<div>\n",
       "<style scoped>\n",
       "    .dataframe tbody tr th:only-of-type {\n",
       "        vertical-align: middle;\n",
       "    }\n",
       "\n",
       "    .dataframe tbody tr th {\n",
       "        vertical-align: top;\n",
       "    }\n",
       "\n",
       "    .dataframe thead th {\n",
       "        text-align: right;\n",
       "    }\n",
       "</style>\n",
       "<table border=\"1\" class=\"dataframe\">\n",
       "  <thead>\n",
       "    <tr style=\"text-align: right;\">\n",
       "      <th></th>\n",
       "      <th>Funded</th>\n",
       "      <th>FedForm_106</th>\n",
       "      <th>FedForm_5</th>\n",
       "      <th>FedForm_21</th>\n",
       "      <th>FedForm_140</th>\n",
       "      <th>FedForm_78</th>\n",
       "      <th>FedForm_107</th>\n",
       "      <th>FedForm_3</th>\n",
       "      <th>FedForm_13</th>\n",
       "      <th>FedForm_22</th>\n",
       "      <th>...</th>\n",
       "      <th>FedForm_121</th>\n",
       "      <th>FedForm_126</th>\n",
       "      <th>FedForm_111</th>\n",
       "      <th>FedForm_28</th>\n",
       "      <th>FedForm_90</th>\n",
       "      <th>FedForm_6</th>\n",
       "      <th>FedForm_113</th>\n",
       "      <th>FedForm_124</th>\n",
       "      <th>FedForm_93</th>\n",
       "      <th>FedForm_43</th>\n",
       "    </tr>\n",
       "  </thead>\n",
       "  <tbody>\n",
       "    <tr>\n",
       "      <th>0</th>\n",
       "      <td>1</td>\n",
       "      <td>1</td>\n",
       "      <td>1</td>\n",
       "      <td>1</td>\n",
       "      <td>1</td>\n",
       "      <td>1</td>\n",
       "      <td>1</td>\n",
       "      <td>0</td>\n",
       "      <td>0</td>\n",
       "      <td>0</td>\n",
       "      <td>...</td>\n",
       "      <td>0</td>\n",
       "      <td>0</td>\n",
       "      <td>0</td>\n",
       "      <td>0</td>\n",
       "      <td>0</td>\n",
       "      <td>0</td>\n",
       "      <td>0</td>\n",
       "      <td>0</td>\n",
       "      <td>0</td>\n",
       "      <td>1</td>\n",
       "    </tr>\n",
       "    <tr>\n",
       "      <th>1</th>\n",
       "      <td>1</td>\n",
       "      <td>1</td>\n",
       "      <td>1</td>\n",
       "      <td>1</td>\n",
       "      <td>1</td>\n",
       "      <td>1</td>\n",
       "      <td>1</td>\n",
       "      <td>0</td>\n",
       "      <td>0</td>\n",
       "      <td>0</td>\n",
       "      <td>...</td>\n",
       "      <td>0</td>\n",
       "      <td>0</td>\n",
       "      <td>0</td>\n",
       "      <td>0</td>\n",
       "      <td>0</td>\n",
       "      <td>0</td>\n",
       "      <td>0</td>\n",
       "      <td>0</td>\n",
       "      <td>0</td>\n",
       "      <td>0</td>\n",
       "    </tr>\n",
       "    <tr>\n",
       "      <th>2</th>\n",
       "      <td>1</td>\n",
       "      <td>1</td>\n",
       "      <td>1</td>\n",
       "      <td>1</td>\n",
       "      <td>1</td>\n",
       "      <td>1</td>\n",
       "      <td>0</td>\n",
       "      <td>0</td>\n",
       "      <td>0</td>\n",
       "      <td>0</td>\n",
       "      <td>...</td>\n",
       "      <td>0</td>\n",
       "      <td>0</td>\n",
       "      <td>0</td>\n",
       "      <td>0</td>\n",
       "      <td>0</td>\n",
       "      <td>0</td>\n",
       "      <td>0</td>\n",
       "      <td>0</td>\n",
       "      <td>0</td>\n",
       "      <td>0</td>\n",
       "    </tr>\n",
       "    <tr>\n",
       "      <th>3</th>\n",
       "      <td>1</td>\n",
       "      <td>1</td>\n",
       "      <td>0</td>\n",
       "      <td>0</td>\n",
       "      <td>0</td>\n",
       "      <td>0</td>\n",
       "      <td>0</td>\n",
       "      <td>0</td>\n",
       "      <td>0</td>\n",
       "      <td>1</td>\n",
       "      <td>...</td>\n",
       "      <td>0</td>\n",
       "      <td>0</td>\n",
       "      <td>0</td>\n",
       "      <td>0</td>\n",
       "      <td>0</td>\n",
       "      <td>0</td>\n",
       "      <td>0</td>\n",
       "      <td>0</td>\n",
       "      <td>0</td>\n",
       "      <td>0</td>\n",
       "    </tr>\n",
       "    <tr>\n",
       "      <th>4</th>\n",
       "      <td>1</td>\n",
       "      <td>1</td>\n",
       "      <td>1</td>\n",
       "      <td>1</td>\n",
       "      <td>1</td>\n",
       "      <td>1</td>\n",
       "      <td>1</td>\n",
       "      <td>1</td>\n",
       "      <td>0</td>\n",
       "      <td>0</td>\n",
       "      <td>...</td>\n",
       "      <td>0</td>\n",
       "      <td>0</td>\n",
       "      <td>0</td>\n",
       "      <td>0</td>\n",
       "      <td>0</td>\n",
       "      <td>0</td>\n",
       "      <td>0</td>\n",
       "      <td>0</td>\n",
       "      <td>0</td>\n",
       "      <td>0</td>\n",
       "    </tr>\n",
       "  </tbody>\n",
       "</table>\n",
       "<p>5 rows × 31 columns</p>\n",
       "</div>"
      ],
      "text/plain": [
       "   Funded  FedForm_106  FedForm_5  FedForm_21  FedForm_140  FedForm_78  \\\n",
       "0       1            1          1           1            1           1   \n",
       "1       1            1          1           1            1           1   \n",
       "2       1            1          1           1            1           1   \n",
       "3       1            1          0           0            0           0   \n",
       "4       1            1          1           1            1           1   \n",
       "\n",
       "   FedForm_107  FedForm_3  FedForm_13  FedForm_22     ...      FedForm_121  \\\n",
       "0            1          0           0           0     ...                0   \n",
       "1            1          0           0           0     ...                0   \n",
       "2            0          0           0           0     ...                0   \n",
       "3            0          0           0           1     ...                0   \n",
       "4            1          1           0           0     ...                0   \n",
       "\n",
       "   FedForm_126  FedForm_111  FedForm_28  FedForm_90  FedForm_6  FedForm_113  \\\n",
       "0            0            0           0           0          0            0   \n",
       "1            0            0           0           0          0            0   \n",
       "2            0            0           0           0          0            0   \n",
       "3            0            0           0           0          0            0   \n",
       "4            0            0           0           0          0            0   \n",
       "\n",
       "   FedForm_124  FedForm_93  FedForm_43  \n",
       "0            0           0           1  \n",
       "1            0           0           0  \n",
       "2            0           0           0  \n",
       "3            0           0           0  \n",
       "4            0           0           0  \n",
       "\n",
       "[5 rows x 31 columns]"
      ]
     },
     "execution_count": 45,
     "metadata": {},
     "output_type": "execute_result"
    }
   ],
   "source": [
    "formsdata.head()"
   ]
  },
  {
   "cell_type": "code",
   "execution_count": 52,
   "metadata": {},
   "outputs": [
    {
     "data": {
      "text/plain": [
       "<matplotlib.axes._subplots.AxesSubplot at 0x155fceb8>"
      ]
     },
     "execution_count": 52,
     "metadata": {},
     "output_type": "execute_result"
    },
    {
     "data": {
      "image/png": "[encoded data removed]",
      "text/plain": [
       "<Figure size 720x720 with 2 Axes>"
      ]
     },
     "metadata": {},
     "output_type": "display_data"
    }
   ],
   "source": [
    "#Correlation matrix for forms data \n",
    "fig, ax = plt.subplots(figsize=(10,10))   \n",
    "sns.heatmap(formsdata.corr(), vmin=-1, vmax=1, cmap=sns.diverging_palette(h_neg=220, h_pos=10, n=21))"
   ]
  },
  {
   "cell_type": "code",
   "execution_count": null,
   "metadata": {},
   "outputs": [],
   "source": [
    "Funded only weekly correlated with 5, 21, 140, 78, 3, and negative with 8"
   ]
  },
  {
   "cell_type": "markdown",
   "metadata": {},
   "source": [
    "##   \n",
    "##    \n",
    "## Look at the categorical variables"
   ]
  },
  {
   "cell_type": "code",
   "execution_count": 86,
   "metadata": {},
   "outputs": [
    {
     "data": {
      "text/plain": [
       "3    60014\n",
       "2    36028\n",
       "1     3958\n",
       "Name: Field_4, dtype: int64"
      ]
     },
     "execution_count": 86,
     "metadata": {},
     "output_type": "execute_result"
    }
   ],
   "source": [
    "data.loc[:,'Field_4'].value_counts()"
   ]
  },
  {
   "cell_type": "code",
   "execution_count": 80,
   "metadata": {},
   "outputs": [
    {
     "data": {
      "text/plain": [
       "Field_4\n",
       "1    0.891359\n",
       "2    0.862995\n",
       "3    0.956810\n",
       "Name: Funded, dtype: float64"
      ]
     },
     "execution_count": 80,
     "metadata": {},
     "output_type": "execute_result"
    }
   ],
   "source": [
    "data.groupby('Field_4')['Funded'].mean()"
   ]
  },
  {
   "cell_type": "code",
   "execution_count": 32,
   "metadata": {},
   "outputs": [
    {
     "data": {
      "image/png": "[encoded data removed]",
      "text/plain": [
       "<Figure size 432x288 with 1 Axes>"
      ]
     },
     "metadata": {},
     "output_type": "display_data"
    }
   ],
   "source": [
    "ax = data.loc[:,'Field_4'].hist()"
   ]
  },
  {
   "cell_type": "markdown",
   "metadata": {},
   "source": [
    "Values of 3 have higher funding rates than values of 1 and 2   \n",
    "Somewhat lopsided distribution of values, but still sizeable populations (4k being smallest)\n",
    "##       "
   ]
  },
  {
   "cell_type": "code",
   "execution_count": 85,
   "metadata": {},
   "outputs": [
    {
     "data": {
      "text/plain": [
       "1    48771\n",
       "5    31738\n",
       "2    18435\n",
       "3      947\n",
       "4      104\n",
       "0        5\n",
       "Name: Field_9, dtype: int64"
      ]
     },
     "execution_count": 85,
     "metadata": {},
     "output_type": "execute_result"
    }
   ],
   "source": [
    "data.loc[:,'Field_9'].value_counts()"
   ]
  },
  {
   "cell_type": "code",
   "execution_count": 77,
   "metadata": {},
   "outputs": [
    {
     "data": {
      "text/plain": [
       "Field_9\n",
       "0    1.000000\n",
       "1    0.941748\n",
       "2    0.936588\n",
       "3    0.871172\n",
       "4    0.961538\n",
       "5    0.879577\n",
       "Name: Funded, dtype: float64"
      ]
     },
     "execution_count": 77,
     "metadata": {},
     "output_type": "execute_result"
    }
   ],
   "source": [
    "data.groupby('Field_9')['Funded'].mean()"
   ]
  },
  {
   "cell_type": "code",
   "execution_count": 34,
   "metadata": {},
   "outputs": [
    {
     "data": {
      "image/png": "[encoded data removed]",
      "text/plain": [
       "<Figure size 432x288 with 1 Axes>"
      ]
     },
     "metadata": {},
     "output_type": "display_data"
    }
   ],
   "source": [
    "ax = data.loc[:,'Field_9'].hist()"
   ]
  },
  {
   "cell_type": "markdown",
   "metadata": {},
   "source": [
    "Very low value counts for values of 0/3/4, need to revisit raw data and perhaps group data together  \n",
    "Funding rates vary dramatically across different values\n",
    "##  \n"
   ]
  },
  {
   "cell_type": "code",
   "execution_count": 36,
   "metadata": {},
   "outputs": [
    {
     "data": {
      "text/plain": [
       "1    98136\n",
       "0     1264\n",
       "2      600\n",
       "Name: Field_11, dtype: int64"
      ]
     },
     "execution_count": 36,
     "metadata": {},
     "output_type": "execute_result"
    }
   ],
   "source": [
    "data.loc[:,'Field_11'].value_counts()"
   ]
  },
  {
   "cell_type": "code",
   "execution_count": 87,
   "metadata": {},
   "outputs": [
    {
     "data": {
      "text/plain": [
       "Field_11\n",
       "0    0.540348\n",
       "1    0.930933\n",
       "2    0.001667\n",
       "Name: Funded, dtype: float64"
      ]
     },
     "execution_count": 87,
     "metadata": {},
     "output_type": "execute_result"
    }
   ],
   "source": [
    "data.groupby('Field_11')['Funded'].mean()"
   ]
  },
  {
   "cell_type": "code",
   "execution_count": 37,
   "metadata": {},
   "outputs": [
    {
     "data": {
      "image/png": "[encoded data removed]",
      "text/plain": [
       "<Figure size 432x288 with 1 Axes>"
      ]
     },
     "metadata": {},
     "output_type": "display_data"
    }
   ],
   "source": [
    "ax = data.loc[:,'Field_11'].hist()"
   ]
  },
  {
   "cell_type": "markdown",
   "metadata": {},
   "source": [
    "Given how unbalanced field is, might need to throw out field\n",
    "##   \n"
   ]
  },
  {
   "cell_type": "code",
   "execution_count": 88,
   "metadata": {},
   "outputs": [
    {
     "data": {
      "text/plain": [
       "3     43893\n",
       "2     42030\n",
       "9     13449\n",
       "4       488\n",
       "10      108\n",
       "1        28\n",
       "7         2\n",
       "6         2\n",
       "Name: Field_5, dtype: int64"
      ]
     },
     "execution_count": 88,
     "metadata": {},
     "output_type": "execute_result"
    }
   ],
   "source": [
    "data.loc[:,'Field_5'].value_counts()"
   ]
  },
  {
   "cell_type": "code",
   "execution_count": 89,
   "metadata": {},
   "outputs": [
    {
     "data": {
      "text/plain": [
       "Field_5\n",
       "1     0.000000\n",
       "2     0.907471\n",
       "3     0.944661\n",
       "4     0.903689\n",
       "6     0.000000\n",
       "7     0.000000\n",
       "9     0.884973\n",
       "10    0.870370\n",
       "Name: Funded, dtype: float64"
      ]
     },
     "execution_count": 89,
     "metadata": {},
     "output_type": "execute_result"
    }
   ],
   "source": [
    "data.groupby('Field_5')['Funded'].mean()"
   ]
  },
  {
   "cell_type": "code",
   "execution_count": 39,
   "metadata": {},
   "outputs": [
    {
     "data": {
      "image/png": "[encoded data removed]",
      "text/plain": [
       "<Figure size 432x288 with 1 Axes>"
      ]
     },
     "metadata": {},
     "output_type": "display_data"
    }
   ],
   "source": [
    "ax = data.loc[:,'Field_5'].hist()"
   ]
  },
  {
   "cell_type": "markdown",
   "metadata": {},
   "source": [
    "Wide dispersion in responses, need to revisit raw data to see if better way to group data\n",
    "##  \n"
   ]
  },
  {
   "cell_type": "code",
   "execution_count": 26,
   "metadata": {},
   "outputs": [
    {
     "data": {
      "text/plain": [
       "3    64857\n",
       "2    34940\n",
       "1      203\n",
       "Name: Field_15, dtype: int64"
      ]
     },
     "execution_count": 26,
     "metadata": {},
     "output_type": "execute_result"
    }
   ],
   "source": [
    "data.loc[:,'Field_15'].value_counts()"
   ]
  },
  {
   "cell_type": "code",
   "execution_count": 90,
   "metadata": {},
   "outputs": [
    {
     "data": {
      "text/plain": [
       "Field_15\n",
       "1    0.911330\n",
       "2    0.910675\n",
       "3    0.925698\n",
       "Name: Funded, dtype: float64"
      ]
     },
     "execution_count": 90,
     "metadata": {},
     "output_type": "execute_result"
    }
   ],
   "source": [
    "data.groupby('Field_15')['Funded'].mean()"
   ]
  },
  {
   "cell_type": "code",
   "execution_count": 40,
   "metadata": {},
   "outputs": [
    {
     "data": {
      "image/png": "[encoded data removed]",
      "text/plain": [
       "<Figure size 432x288 with 1 Axes>"
      ]
     },
     "metadata": {},
     "output_type": "display_data"
    }
   ],
   "source": [
    "ax = data.loc[:,'Field_15'].hist()"
   ]
  },
  {
   "cell_type": "markdown",
   "metadata": {},
   "source": [
    "Very low value count for outcome 1, need to validate against raw data to make sure accurate   \n",
    "200 is probably too small for an accurate reference group as dummy variable  \n",
    "Pretty consistent funding rates across all values\n",
    "##  "
   ]
  },
  {
   "cell_type": "markdown",
   "metadata": {},
   "source": [
    "##   \n",
    "##    \n",
    "## Look at the numeric variables\n",
    "\n",
    "\n"
   ]
  },
  {
   "cell_type": "code",
   "execution_count": 62,
   "metadata": {},
   "outputs": [],
   "source": [
    "#Create numeric dataset\n",
    "numericdata = data.loc[:,['Funded','Field_12','Field_6','Field_7']]\n"
   ]
  },
  {
   "cell_type": "code",
   "execution_count": 63,
   "metadata": {},
   "outputs": [
    {
     "data": {
      "text/html": [
       "<div>\n",
       "<style scoped>\n",
       "    .dataframe tbody tr th:only-of-type {\n",
       "        vertical-align: middle;\n",
       "    }\n",
       "\n",
       "    .dataframe tbody tr th {\n",
       "        vertical-align: top;\n",
       "    }\n",
       "\n",
       "    .dataframe thead th {\n",
       "        text-align: right;\n",
       "    }\n",
       "</style>\n",
       "<table border=\"1\" class=\"dataframe\">\n",
       "  <thead>\n",
       "    <tr style=\"text-align: right;\">\n",
       "      <th></th>\n",
       "      <th>Funded</th>\n",
       "      <th>Field_12</th>\n",
       "      <th>Field_6</th>\n",
       "      <th>Field_7</th>\n",
       "    </tr>\n",
       "  </thead>\n",
       "  <tbody>\n",
       "    <tr>\n",
       "      <th>0</th>\n",
       "      <td>1</td>\n",
       "      <td>2</td>\n",
       "      <td>24702.0</td>\n",
       "      <td>6527.0</td>\n",
       "    </tr>\n",
       "    <tr>\n",
       "      <th>1</th>\n",
       "      <td>1</td>\n",
       "      <td>2</td>\n",
       "      <td>8432.0</td>\n",
       "      <td>4342.0</td>\n",
       "    </tr>\n",
       "    <tr>\n",
       "      <th>2</th>\n",
       "      <td>1</td>\n",
       "      <td>2</td>\n",
       "      <td>25589.0</td>\n",
       "      <td>10260.0</td>\n",
       "    </tr>\n",
       "    <tr>\n",
       "      <th>3</th>\n",
       "      <td>1</td>\n",
       "      <td>0</td>\n",
       "      <td>39856.0</td>\n",
       "      <td>1614.0</td>\n",
       "    </tr>\n",
       "    <tr>\n",
       "      <th>4</th>\n",
       "      <td>1</td>\n",
       "      <td>2</td>\n",
       "      <td>24302.0</td>\n",
       "      <td>6057.0</td>\n",
       "    </tr>\n",
       "  </tbody>\n",
       "</table>\n",
       "</div>"
      ],
      "text/plain": [
       "   Funded  Field_12  Field_6  Field_7\n",
       "0       1         2  24702.0   6527.0\n",
       "1       1         2   8432.0   4342.0\n",
       "2       1         2  25589.0  10260.0\n",
       "3       1         0  39856.0   1614.0\n",
       "4       1         2  24302.0   6057.0"
      ]
     },
     "execution_count": 63,
     "metadata": {},
     "output_type": "execute_result"
    }
   ],
   "source": [
    "numericdata.head()"
   ]
  },
  {
   "cell_type": "code",
   "execution_count": 64,
   "metadata": {},
   "outputs": [
    {
     "data": {
      "text/html": [
       "<div>\n",
       "<style scoped>\n",
       "    .dataframe tbody tr th:only-of-type {\n",
       "        vertical-align: middle;\n",
       "    }\n",
       "\n",
       "    .dataframe tbody tr th {\n",
       "        vertical-align: top;\n",
       "    }\n",
       "\n",
       "    .dataframe thead th {\n",
       "        text-align: right;\n",
       "    }\n",
       "</style>\n",
       "<table border=\"1\" class=\"dataframe\">\n",
       "  <thead>\n",
       "    <tr style=\"text-align: right;\">\n",
       "      <th></th>\n",
       "      <th>Funded</th>\n",
       "      <th>Field_12</th>\n",
       "      <th>Field_6</th>\n",
       "      <th>Field_7</th>\n",
       "    </tr>\n",
       "  </thead>\n",
       "  <tbody>\n",
       "    <tr>\n",
       "      <th>count</th>\n",
       "      <td>100000.000000</td>\n",
       "      <td>100000.000000</td>\n",
       "      <td>100000.000000</td>\n",
       "      <td>100000.000000</td>\n",
       "    </tr>\n",
       "    <tr>\n",
       "      <th>mean</th>\n",
       "      <td>0.920420</td>\n",
       "      <td>1.335690</td>\n",
       "      <td>26208.836660</td>\n",
       "      <td>4061.440230</td>\n",
       "    </tr>\n",
       "    <tr>\n",
       "      <th>std</th>\n",
       "      <td>0.270643</td>\n",
       "      <td>1.202405</td>\n",
       "      <td>21151.171942</td>\n",
       "      <td>2795.331631</td>\n",
       "    </tr>\n",
       "    <tr>\n",
       "      <th>min</th>\n",
       "      <td>0.000000</td>\n",
       "      <td>0.000000</td>\n",
       "      <td>-113582.000000</td>\n",
       "      <td>-25343.000000</td>\n",
       "    </tr>\n",
       "    <tr>\n",
       "      <th>25%</th>\n",
       "      <td>1.000000</td>\n",
       "      <td>0.000000</td>\n",
       "      <td>12792.750000</td>\n",
       "      <td>1372.000000</td>\n",
       "    </tr>\n",
       "    <tr>\n",
       "      <th>50%</th>\n",
       "      <td>1.000000</td>\n",
       "      <td>1.000000</td>\n",
       "      <td>20756.500000</td>\n",
       "      <td>3848.000000</td>\n",
       "    </tr>\n",
       "    <tr>\n",
       "      <th>75%</th>\n",
       "      <td>1.000000</td>\n",
       "      <td>2.000000</td>\n",
       "      <td>32602.500000</td>\n",
       "      <td>6021.250000</td>\n",
       "    </tr>\n",
       "    <tr>\n",
       "      <th>max</th>\n",
       "      <td>1.000000</td>\n",
       "      <td>12.000000</td>\n",
       "      <td>413321.000000</td>\n",
       "      <td>42821.000000</td>\n",
       "    </tr>\n",
       "  </tbody>\n",
       "</table>\n",
       "</div>"
      ],
      "text/plain": [
       "              Funded       Field_12        Field_6        Field_7\n",
       "count  100000.000000  100000.000000  100000.000000  100000.000000\n",
       "mean        0.920420       1.335690   26208.836660    4061.440230\n",
       "std         0.270643       1.202405   21151.171942    2795.331631\n",
       "min         0.000000       0.000000 -113582.000000  -25343.000000\n",
       "25%         1.000000       0.000000   12792.750000    1372.000000\n",
       "50%         1.000000       1.000000   20756.500000    3848.000000\n",
       "75%         1.000000       2.000000   32602.500000    6021.250000\n",
       "max         1.000000      12.000000  413321.000000   42821.000000"
      ]
     },
     "execution_count": 64,
     "metadata": {},
     "output_type": "execute_result"
    }
   ],
   "source": [
    "numericdata.describe()"
   ]
  },
  {
   "cell_type": "code",
   "execution_count": 58,
   "metadata": {},
   "outputs": [
    {
     "data": {
      "image/png": "[encoded data removed]",
      "text/plain": [
       "<Figure size 432x288 with 1 Axes>"
      ]
     },
     "metadata": {},
     "output_type": "display_data"
    }
   ],
   "source": [
    "ax = data.loc[:, 'Field_6'].plot(kind='hist', bins=100)\n"
   ]
  },
  {
   "cell_type": "markdown",
   "metadata": {},
   "source": [
    "This field demonstrates a rightward skew, consistent with the describe table above (median is 21,000 while mean is 26,000)"
   ]
  },
  {
   "cell_type": "code",
   "execution_count": 59,
   "metadata": {},
   "outputs": [
    {
     "data": {
      "image/png": "[encoded data removed]",
      "text/plain": [
       "<Figure size 432x288 with 1 Axes>"
      ]
     },
     "metadata": {},
     "output_type": "display_data"
    }
   ],
   "source": [
    "data.plot(kind='scatter', x='Field_6', y='Funded');"
   ]
  },
  {
   "cell_type": "markdown",
   "metadata": {},
   "source": [
    "Not seeing a clear relationship between funding and Field_6, although the funded demonstrate a wider range\n"
   ]
  },
  {
   "cell_type": "code",
   "execution_count": 65,
   "metadata": {},
   "outputs": [
    {
     "data": {
      "image/png": "[encoded data removed]",
      "text/plain": [
       "<Figure size 432x288 with 1 Axes>"
      ]
     },
     "metadata": {},
     "output_type": "display_data"
    }
   ],
   "source": [
    "ax = data.loc[:, 'Field_12'].plot(kind='hist', bins=100)\n",
    "\n"
   ]
  },
  {
   "cell_type": "markdown",
   "metadata": {},
   "source": [
    "One sided distribution (cannot go negative)\n",
    "\n",
    "Mean slightly higher than median (1.33 vs 1), supports slight rightward skew"
   ]
  },
  {
   "cell_type": "code",
   "execution_count": 67,
   "metadata": {},
   "outputs": [
    {
     "data": {
      "image/png": "[encoded data removed]",
      "text/plain": [
       "<Figure size 432x288 with 1 Axes>"
      ]
     },
     "metadata": {},
     "output_type": "display_data"
    }
   ],
   "source": [
    "ax = data.loc[:, 'Field_7'].plot(kind='hist', bins=100)\n"
   ]
  },
  {
   "cell_type": "code",
   "execution_count": 68,
   "metadata": {},
   "outputs": [
    {
     "data": {
      "image/png": "[encoded data removed]",
      "text/plain": [
       "<Figure size 432x288 with 1 Axes>"
      ]
     },
     "metadata": {},
     "output_type": "display_data"
    }
   ],
   "source": [
    "data.plot(kind='scatter', x='Field_7', y='Funded');"
   ]
  },
  {
   "cell_type": "markdown",
   "metadata": {},
   "source": [
    "Again seeing broader range for funded than unfunded observations  \n",
    "Cluster seems to be higher for funded than for unfunded"
   ]
  },
  {
   "cell_type": "markdown",
   "metadata": {},
   "source": [
    "##  \n",
    "##  \n",
    "## Recap and next steps"
   ]
  },
  {
   "cell_type": "markdown",
   "metadata": {},
   "source": [
    "The overall dataset is pretty clean, there are no missing or blank values.\n",
    "\n",
    "Some of the categorical variables are unbalanced, which will need to be re-evaluated, and either modified or dropped.  \n",
    "\n",
    "One potential shortcoming is how little explanatory power form presence had over the funded variable, which could be problematic. However, it's possible the regression tree will identify relationships that were not immediately obvious on the rough overview correlation matrix I generated. Also, I only included 30 of the most popular forms, there could be less popular forms with greater predictive power. \n",
    "\n",
    "This is the simple version, as the model gets built out, would like to add in more forms (up to 150 are available), and also pull in a larger data set (1.7M observations available, currently only looking at a random sample of 100k)."
   ]
  }
 ],
 "metadata": {
  "kernelspec": {
   "display_name": "Python 3",
   "language": "python",
   "name": "python3"
  },
  "language_info": {
   "codemirror_mode": {
    "name": "ipython",
    "version": 3
   },
   "file_extension": ".py",
   "mimetype": "text/x-python",
   "name": "python",
   "nbconvert_exporter": "python",
   "pygments_lexer": "ipython3",
   "version": "3.6.5"
  }
 },
 "nbformat": 4,
 "nbformat_minor": 2
}
